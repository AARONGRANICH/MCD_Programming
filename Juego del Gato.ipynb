{
 "cells": [
  {
   "cell_type": "markdown",
   "id": "02cdcadf-1ad4-4d27-a8fa-e9bc08decbb1",
   "metadata": {},
   "source": [
    "# Problema\n",
    "\n",
    "Escribe un programa con quién jugar [al gato](https://es.wikipedia.org/wiki/Tres_en_l%C3%ADnea).\n",
    "Puedes representar el estado del juego con una lista con valores que codifican las marcas: 0 para casillas vacías, 1 para las cruces, 2 para los círculos.\n",
    "Puedes recibir la jugada desde el teclado usando `input`."
   ]
  },
  {
   "cell_type": "markdown",
   "id": "3b2f02fb-93b9-4e61-9aac-5edb9961bfaf",
   "metadata": {},
   "source": [
    "La siguiente función permite imprimir a pantalla el estado del juego."
   ]
  },
  {
   "cell_type": "code",
   "execution_count": 45,
   "id": "57b224d3-a1b3-4f62-a8d3-6498b775928d",
   "metadata": {},
   "outputs": [],
   "source": [
    "def cell_char(x):\n",
    "    if x == 1:\n",
    "        return \"x\"\n",
    "    if x == 2:\n",
    "        return \"o\"\n",
    "    return \" \"\n",
    "\n",
    "def print_state(s):\n",
    "    c = [cell_char(x) for x in s]\n",
    "    print(\"    A   B   C  \")\n",
    "    print(\"  ┏━━━┯━━━┯━━━┓\")\n",
    "    print(\"1 ┃ {} │ {} │ {} ┃\".format(c[0], c[1], c[2]))\n",
    "    print(\"  ┠───┼───┼───┨\")\n",
    "    print(\"2 ┃ {} │ {} │ {} ┃\".format(c[3], c[4], c[5]))\n",
    "    print(\"  ┠───┼───┼───┨\")\n",
    "    print(\"3 ┃ {} │ {} │ {} ┃\".format(c[6], c[7], c[8]))\n",
    "    print(\"  ┗━━━┷━━━┷━━━┛\")"
   ]
  },
  {
   "cell_type": "code",
   "execution_count": 46,
   "id": "cfa1e93e-8736-4438-bb06-01d9889c203e",
   "metadata": {},
   "outputs": [
    {
     "name": "stdout",
     "output_type": "stream",
     "text": [
      "    A   B   C  \n",
      "  ┏━━━┯━━━┯━━━┓\n",
      "1 ┃   │   │   ┃\n",
      "  ┠───┼───┼───┨\n",
      "2 ┃   │   │   ┃\n",
      "  ┠───┼───┼───┨\n",
      "3 ┃   │   │   ┃\n",
      "  ┗━━━┷━━━┷━━━┛\n"
     ]
    }
   ],
   "source": [
    "print_state([0, 0, 0, 0, 0, 0, 0, 0, 0])"
   ]
  },
  {
   "cell_type": "code",
   "execution_count": 42,
   "id": "c8c5f430-16a6-4043-9d4a-afd29d9c1ae5",
   "metadata": {},
   "outputs": [
    {
     "name": "stdout",
     "output_type": "stream",
     "text": [
      "Juego del Gato\n",
      "                        Referencia:    \n",
      "                          |    |      \n",
      "                       1  | 2  | 3    \n",
      "                     -----+----+----- \n",
      "                          |    |      \n",
      "                       4  | 5  | 6    \n",
      "                     -----+----+----- \n",
      "                          |    |      \n",
      "                       7  | 8  | 9    \n",
      "\n"
     ]
    },
    {
     "name": "stdin",
     "output_type": "stream",
     "text": [
      "[Player]Selecciona tu equipo[x/o]:  x\n"
     ]
    },
    {
     "name": "stdout",
     "output_type": "stream",
     "text": [
      "[Palyer]Tu seleccion \"X\".\n",
      "[Player]Mueves Primero.\n",
      "\n",
      "                               Referencia:\n",
      "     |    |                      |    |   \n",
      "     |    |                   1  | 2  | 3  \n",
      "-----+----+-----            -----+----+-----\n",
      "     |    |                      |    |     \n",
      "     |    |                   4  | 5  | 6   \n",
      "-----+----+-----            -----+----+-----\n",
      "     |    |                      |    |      \n",
      "     |    |                   7  | 8  | 9    \n",
      "\n",
      "\n"
     ]
    },
    {
     "name": "stdin",
     "output_type": "stream",
     "text": [
      "[Player] 'x' Cual es tu movimiento?: 1\n"
     ]
    },
    {
     "name": "stdout",
     "output_type": "stream",
     "text": [
      "\n",
      "                               Referencia:\n",
      "     |    |                      |    |   \n",
      "  x  |    |                   1  | 2  | 3  \n",
      "-----+----+-----            -----+----+-----\n",
      "     |    |                      |    |     \n",
      "     |    |                   4  | 5  | 6   \n",
      "-----+----+-----            -----+----+-----\n",
      "     |    |                      |    |      \n",
      "     |    |                   7  | 8  | 9    \n",
      "\n",
      "\n",
      "[CPU] Coloco:5\n",
      "\n",
      "                               Referencia:\n",
      "     |    |                      |    |   \n",
      "  x  |    |                   1  | 2  | 3  \n",
      "-----+----+-----            -----+----+-----\n",
      "     |    |                      |    |     \n",
      "     | o  |                   4  | 5  | 6   \n",
      "-----+----+-----            -----+----+-----\n",
      "     |    |                      |    |      \n",
      "     |    |                   7  | 8  | 9    \n",
      "\n",
      "\n"
     ]
    },
    {
     "name": "stdin",
     "output_type": "stream",
     "text": [
      "[Player] 'x' Cual es tu movimiento?: 2\n"
     ]
    },
    {
     "name": "stdout",
     "output_type": "stream",
     "text": [
      "\n",
      "                               Referencia:\n",
      "     |    |                      |    |   \n",
      "  x  | x  |                   1  | 2  | 3  \n",
      "-----+----+-----            -----+----+-----\n",
      "     |    |                      |    |     \n",
      "     | o  |                   4  | 5  | 6   \n",
      "-----+----+-----            -----+----+-----\n",
      "     |    |                      |    |      \n",
      "     |    |                   7  | 8  | 9    \n",
      "\n",
      "\n",
      "[CPU] Coloco:3\n",
      "\n",
      "                               Referencia:\n",
      "     |    |                      |    |   \n",
      "  x  | x  | o                 1  | 2  | 3  \n",
      "-----+----+-----            -----+----+-----\n",
      "     |    |                      |    |     \n",
      "     | o  |                   4  | 5  | 6   \n",
      "-----+----+-----            -----+----+-----\n",
      "     |    |                      |    |      \n",
      "     |    |                   7  | 8  | 9    \n",
      "\n",
      "\n"
     ]
    },
    {
     "name": "stdin",
     "output_type": "stream",
     "text": [
      "[Player] 'x' Cual es tu movimiento?: 3\n"
     ]
    },
    {
     "name": "stdout",
     "output_type": "stream",
     "text": [
      "[Player] 'x' Lugar ocupado.\n"
     ]
    },
    {
     "name": "stdin",
     "output_type": "stream",
     "text": [
      "[Player] 'x' Cual es tu movimiento?: 5\n"
     ]
    },
    {
     "name": "stdout",
     "output_type": "stream",
     "text": [
      "[Player] 'x' Lugar ocupado.\n"
     ]
    },
    {
     "name": "stdin",
     "output_type": "stream",
     "text": [
      "[Player] 'x' Cual es tu movimiento?: 6\n"
     ]
    },
    {
     "name": "stdout",
     "output_type": "stream",
     "text": [
      "\n",
      "                               Referencia:\n",
      "     |    |                      |    |   \n",
      "  x  | x  | o                 1  | 2  | 3  \n",
      "-----+----+-----            -----+----+-----\n",
      "     |    |                      |    |     \n",
      "     | o  | x                 4  | 5  | 6   \n",
      "-----+----+-----            -----+----+-----\n",
      "     |    |                      |    |      \n",
      "     |    |                   7  | 8  | 9    \n",
      "\n",
      "\n",
      "[CPU] Coloco:7\n",
      "\n",
      "                               Referencia:\n",
      "     |    |                      |    |   \n",
      "  x  | x  | o                 1  | 2  | 3  \n",
      "-----+----+-----            -----+----+-----\n",
      "     |    |                      |    |     \n",
      "     | o  | x                 4  | 5  | 6   \n",
      "-----+----+-----            -----+----+-----\n",
      "     |    |                      |    |      \n",
      "  o  |    |                   7  | 8  | 9    \n",
      "\n",
      "\n",
      "[CPU] wins the match!\n"
     ]
    },
    {
     "name": "stdin",
     "output_type": "stream",
     "text": [
      "[Player] Quieres Jugar otra vez?(y/n): n\n"
     ]
    },
    {
     "name": "stdout",
     "output_type": "stream",
     "text": [
      "Gracias por Jugar\n"
     ]
    }
   ],
   "source": [
    "print(\"Juego del Gato\")\n",
    "print(20*' ',\"   Referencia:    \")\n",
    "print(20*' ','     |    |      ') \n",
    "print(20*' ','  1  | 2  | 3    ')\n",
    "print(20*' ',\"-----+----+----- \")\n",
    "print(20*' ',\"     |    |      \")\n",
    "print(20*' ',\"  4  | 5  | 6    \")\n",
    "print(20*' ',\"-----+----+----- \")\n",
    "print(20*' ',\"     |    |      \")\n",
    "print(20*' ',\"  7  | 8  | 9    \\n\")\n",
    "\n",
    "def display_board():\n",
    "    print()\n",
    "    print('                               Referencia:')\n",
    "    print('     |    |     ',10*' ','     |    |   ',)\n",
    "    print('  '+board[1]+'  | '+board[2]+'  | '+board[3]+'   ',10*' ','  1  | 2  | 3  ')\n",
    "    print('-----+----+-----',10*' ',\"-----+----+-----\")\n",
    "    print('     |    |     ',10*' ',\"     |    |     \")\n",
    "    print('  '+board[4]+'  | '+board[5]+'  | '+board[6]+'   ',10*' ',\"  4  | 5  | 6   \")\n",
    "    print('-----+----+-----',10*' ',\"-----+----+-----\")\n",
    "    print('     |    |     ',10*' ',\"     |    |      \")\n",
    "    print('  '+board[7]+'  | '+board[8]+'  | '+board[9]+'   ',10*' ',\"  7  | 8  | 9    \\n\\n\")\n",
    "\n",
    "\n",
    "def human_input(mark):\n",
    "    while True:\n",
    "        inp = input(f\"[Player] '{mark}' Cual es tu movimiento?:\")\n",
    "        if inp.isdigit() and int(inp) <10 and int(inp) >0:\n",
    "            inp = int(inp)\n",
    "            if board[inp] == \" \":\n",
    "                return inp\n",
    "            else:\n",
    "                print(f\"[Player] '{mark}' Lugar ocupado.\")\n",
    "        else:\n",
    "            print(f\"[Player] '{mark}' Coloca un Valor valido (1 - 9).\")\n",
    "\n",
    "\n",
    "def winning(mark,board):\n",
    "    winning_place = [[1,2,3],[4,5,6],[7,8,9],[1,4,7],[2,5,8],[3,6,9],[1,5,9],[3,5,7]]\n",
    "    for win_place in winning_place:\n",
    "        if board[win_place[0]] == board[win_place[1]] == board[win_place[2]] == mark:\n",
    "            return True\n",
    "\n",
    "\n",
    "def win_move(i,board,mark):\n",
    "    temp_board = list(board)\n",
    "    temp_board[i] = mark\n",
    "    if winning(mark,temp_board):\n",
    "        return True\n",
    "    else:\n",
    "        return False\n",
    "\n",
    "\n",
    "def cpu_input(cpu , human , board):\n",
    "    for i in range(1,10):\n",
    "        if board[i] == ' ' and win_move(i,board,cpu):\n",
    "            return i\n",
    "    for i in range(1,10):\n",
    "        if board[i] == ' ' and win_move(i,board,human):\n",
    "            return i\n",
    "    for i in [5,1,7,3,2,9,8,6,4]:\n",
    "        if board[i] == ' ':\n",
    "            return i\n",
    "\n",
    "def new_game():\n",
    "    while True:\n",
    "        nxt = input('[Player] Quieres Jugar otra vez?(y/n):')\n",
    "        if nxt in['y','Y']:\n",
    "            again = True\n",
    "            break\n",
    "        elif nxt in ['n','N']:\n",
    "            print('Gracias por Jugar')\n",
    "            again = False\n",
    "            break\n",
    "        else:\n",
    "            print('Coloca Valor correcto')\n",
    "    if again:\n",
    "        print('__________Nuevo Juego__________')\n",
    "        main_game()\n",
    "    else:\n",
    "        return False\n",
    "\n",
    " \n",
    "def win_check(human , cpu):\n",
    "    winning_place = [[1,2,3],[4,5,6],[7,8,9],[1,4,7],[2,5,8],[3,6,9],[1,5,9],[3,5,7]]\n",
    "    for win_place in winning_place:\n",
    "        if board[win_place[0]] == board[win_place[1]] == board[win_place[2]] == human:\n",
    "            print('[HUMAN] wins the match!')\n",
    "            if not new_game():\n",
    "                return False\n",
    "        elif board[win_place[0]] == board[win_place[1]] == board[win_place[2]] == cpu:\n",
    "                print('[CPU] wins the match!')\n",
    "                if not new_game():\n",
    "                    return False\n",
    "    if ' ' not in board:\n",
    "        print('Empate!!')\n",
    "        if not new_game():\n",
    "            return False\n",
    "    return True\n",
    "\n",
    "\n",
    "def user_choice():\n",
    "    while True:\n",
    "        inp = input('[Player]Selecciona tu equipo[x/o]: ')\n",
    "        if inp in ['x' , 'X']:\n",
    "            print('[Palyer]Tu seleccion \"X\".\\n[Player]Mueves Primero.')\n",
    "            return 'x','o'\n",
    "        elif inp in ['O','o']:\n",
    "            print('[Player] Tu Seleccion \"O\".\\n[Player] CPU Mueve Primero.')\n",
    "            return 'o','x'\n",
    "        else:\n",
    "            print('[Player] Colocar Valor correcto!')\n",
    "\n",
    "\n",
    "def main_game():\n",
    "    global board\n",
    "    play = True\n",
    "    board =['',' ',' ',' ',' ',' ',' ',' ',' ',' ']\n",
    "    human , cpu = user_choice()\n",
    "    display_board()\n",
    "    while play:\n",
    "        if human == 'x':\n",
    "            x = human_input(human)\n",
    "            board[x] = human\n",
    "            display_board()\n",
    "            play = win_check(human , cpu)\n",
    "            if play:\n",
    "                o = cpu_input(cpu , human , board)\n",
    "                print(f'[CPU] Coloco:{o}')\n",
    "                board[o] = cpu\n",
    "                display_board()\n",
    "                play = win_check(human , cpu)\n",
    "        else:\n",
    "            x = cpu_input(cpu , human , board)\n",
    "            print(f'[CPU] Coloco:{x}')\n",
    "            board[x] = cpu\n",
    "            display_board()\n",
    "            play = win_check(human , cpu)\n",
    "            if play:\n",
    "                o = human_input(human)\n",
    "                board[o] = human\n",
    "                display_board()\n",
    "                play = win_check(human , cpu)\n",
    "\n",
    "           \n",
    "if __name__ == '__main__':\n",
    "    main_game()"
   ]
  },
  {
   "cell_type": "code",
   "execution_count": null,
   "id": "9133638d-b021-4274-8942-52720064d53b",
   "metadata": {},
   "outputs": [],
   "source": []
  }
 ],
 "metadata": {
  "kernelspec": {
   "display_name": "Python 3 (ipykernel)",
   "language": "python",
   "name": "python3"
  },
  "language_info": {
   "codemirror_mode": {
    "name": "ipython",
    "version": 3
   },
   "file_extension": ".py",
   "mimetype": "text/x-python",
   "name": "python",
   "nbconvert_exporter": "python",
   "pygments_lexer": "ipython3",
   "version": "3.10.7"
  }
 },
 "nbformat": 4,
 "nbformat_minor": 5
}
