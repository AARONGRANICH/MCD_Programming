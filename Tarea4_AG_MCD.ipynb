{
 "cells": [
  {
   "cell_type": "markdown",
   "id": "fc864d6f-cd74-49eb-aee6-bff91fe5c256",
   "metadata": {},
   "source": [
    "# Introducción a Pandas\n",
    "\n",
    "Pandas es una biblioteca que construye sobre NumPy y provee una implementación eficiente de *DataFrames* un tipo de objetos de Python similar a una tabla que permite una conveniente manipulación de columnas y renglones, así como mecanismos para trabajar con valores faltantes e índices más complejos que los usuales (por ejemplo, fechas o instantes de tiempo).\n",
    "\n",
    "En esta libreta veremos cómo utilizar los tipos `Series` y `DataFrame` de Pandas. Pero primero asegúrate de haber instalado la biblioteca:\n",
    "1. Activa tu entorno de trabajo.\n",
    "2. Ejecuta el comando en la consola: `pip install pandas`."
   ]
  },
  {
   "cell_type": "code",
   "execution_count": 2,
   "id": "83f04829-9679-455f-bdd3-092a95beede6",
   "metadata": {},
   "outputs": [],
   "source": [
    "import numpy as np\n",
    "import pandas as pd"
   ]
  },
  {
   "cell_type": "markdown",
   "id": "7063ba09-c7ff-4725-a3a1-cce0ca24d50c",
   "metadata": {},
   "source": [
    "**Problema 1:** Determina qué ocurre cuando creamos un objeto `Series` a partir de un diccionario, pero adicionalmente proveemos el argumento opcional `index`. ¿De qué forma podemos utilizar esta propiedad?"
   ]
  },
  {
   "cell_type": "code",
   "execution_count": 22,
   "id": "212d81b3-6406-4591-b56f-f4c577dbcc73",
   "metadata": {},
   "outputs": [
    {
     "data": {
      "text/plain": [
       "CONCACAF       Mexico\n",
       "CONMEBOL       Brasil\n",
       "AFC             Japon\n",
       "UEFA          Belgica\n",
       "CONMEBOL    Argentina\n",
       "dtype: object"
      ]
     },
     "execution_count": 22,
     "metadata": {},
     "output_type": "execute_result"
    }
   ],
   "source": [
    "Mundial = pd.Series([\n",
    "    'Mexico',\n",
    "    'Brasil',\n",
    "    'Japon',\n",
    "    'Belgica',\n",
    "    'Argentina',\n",
    "])\n",
    "Mundial.index = ['CONCACAF' , 'CONMEBOL' ,'AFC', 'UEFA', 'CONMEBOL']\n",
    "Mundial"
   ]
  },
  {
   "cell_type": "markdown",
   "id": "d0f9b5e2-0f8c-42e9-8931-df8e9611332b",
   "metadata": {},
   "source": [
    "*Nos sirve para etiquetar nuestro diccionario creado*"
   ]
  },
  {
   "cell_type": "markdown",
   "id": "dc35fa7c-d1a2-42d5-bc36-3ffa43000a27",
   "metadata": {},
   "source": [
    "**Problema 2:** Determina qué ocurre cuando creamos un objeto `Series` a partir de un valor numérico, pero adicionalmente proveemos el argumento opcional `index`. ¿De qué forma podemos utilizar esta propiedad?"
   ]
  },
  {
   "cell_type": "code",
   "execution_count": 25,
   "id": "b4fd2d89-29c7-49bb-a06c-e19798ee1494",
   "metadata": {},
   "outputs": [
    {
     "data": {
      "text/plain": [
       "0    4\n",
       "1    1\n",
       "2    5\n",
       "3    2\n",
       "4    3\n",
       "dtype: int64"
      ]
     },
     "execution_count": 25,
     "metadata": {},
     "output_type": "execute_result"
    }
   ],
   "source": [
    "MundialEquipos = pd.Series([4,1,5,2,3])\n",
    "Mundial.index = ['Mexico' , 'Brasil' ,'Japon', 'Belgica', 'Argentina']\n",
    "MundialEquipos"
   ]
  },
  {
   "cell_type": "markdown",
   "id": "00f6cee3-99f0-42f8-9c10-e4568bef79e2",
   "metadata": {},
   "source": [
    "*Se etiquetaron como lista con valor numericos*"
   ]
  },
  {
   "cell_type": "markdown",
   "id": "dc8f3040-5aaa-4a91-9d56-6daa3f0562e1",
   "metadata": {},
   "source": [
    "**Problema 3:** El ejemplo anterior utiliza un concepto llamado *Structured Arrays* de NumPy. Investiga para qué pueden ser utilizados este tipo de arreglos."
   ]
  },
  {
   "cell_type": "code",
   "execution_count": null,
   "id": "de7093a9-055c-4d30-934e-0044c200833c",
   "metadata": {},
   "outputs": [
    {
     "name": "stdout",
     "output_type": "stream",
     "text": [
      "[('A', '<i8'), ('B', '<f8')]\n"
     ]
    },
    {
     "data": {
      "text/html": [
       "<div>\n",
       "<style scoped>\n",
       "    .dataframe tbody tr th:only-of-type {\n",
       "        vertical-align: middle;\n",
       "    }\n",
       "\n",
       "    .dataframe tbody tr th {\n",
       "        vertical-align: top;\n",
       "    }\n",
       "\n",
       "    .dataframe thead th {\n",
       "        text-align: right;\n",
       "    }\n",
       "</style>\n",
       "<table border=\"1\" class=\"dataframe\">\n",
       "  <thead>\n",
       "    <tr style=\"text-align: right;\">\n",
       "      <th></th>\n",
       "      <th>A</th>\n",
       "      <th>B</th>\n",
       "    </tr>\n",
       "  </thead>\n",
       "  <tbody>\n",
       "    <tr>\n",
       "      <th>0</th>\n",
       "      <td>0</td>\n",
       "      <td>0.0</td>\n",
       "    </tr>\n",
       "    <tr>\n",
       "      <th>1</th>\n",
       "      <td>0</td>\n",
       "      <td>0.0</td>\n",
       "    </tr>\n",
       "    <tr>\n",
       "      <th>2</th>\n",
       "      <td>0</td>\n",
       "      <td>0.0</td>\n",
       "    </tr>\n",
       "  </tbody>\n",
       "</table>\n",
       "</div>"
      ],
      "text/plain": [
       "   A    B\n",
       "0  0  0.0\n",
       "1  0  0.0\n",
       "2  0  0.0"
      ]
     },
     "execution_count": 32,
     "metadata": {},
     "output_type": "execute_result"
    }
   ],
   "source": [
    "A = np.zeros(3, dtype=[('A', 'i8'), ('B', 'f8')])\n",
    "print(A.dtype)\n",
    "pd.DataFrame(A)"
   ]
  },
  {
   "cell_type": "markdown",
   "id": "7b2937ef-b871-4cae-9219-1c5182ce9068",
   "metadata": {},
   "source": [
    "*Sirve para agrupar datos de diferentes tipos y tamaños*"
   ]
  },
  {
   "cell_type": "markdown",
   "id": "6c5a7f00-d9a8-4ad4-aca9-b1c684409715",
   "metadata": {},
   "source": [
    "**Problema 4:** Investiga las operaciones `isnull`, `notnull`, `dropna` y `fillna` de Pandas, así como el valor `pd.NA`. Puedes apoyarte de [la documentación](https://pandas.pydata.org/docs/user_guide/missing_data.html)"
   ]
  },
  {
   "cell_type": "markdown",
   "id": "e739469b-0e9f-4290-9b70-97e2032d4a7b",
   "metadata": {},
   "source": [
    "`isnull =` Detectar valores faltantes\n",
    "\n",
    "`notnull` = Examina valores para saber si son no nulos\n",
    "\n",
    "`dropna` = Elimina los renglones con datos faltantes\n",
    "\n",
    "`fillna` = Nos ayuda a colocar un valor cuando hay un dato faltante\n",
    "\n",
    "`pd.NA` = Representa valores faltantes "
   ]
  },
  {
   "cell_type": "markdown",
   "id": "e64ddc96-32c2-4b54-b12d-598ed04906a1",
   "metadata": {},
   "source": [
    "---\n",
    "\n",
    "**Problema 5:** Pandas incluye funciones para la lectura de archivos CSV o Excel. Consulta los sitios de datos abiertos de algúna institución pública o gubernamental, descarga un dataset en formato CSV, otro en Excel y carga los datos en un DataFrame de Pandas. El DataFrame resultante debe tener asociada a cada columna el tipo de dato adecuado para trabajar."
   ]
  },
  {
   "cell_type": "code",
   "execution_count": 67,
   "id": "62b74999-e7ee-4c35-89c7-a4aeafefde93",
   "metadata": {},
   "outputs": [
    {
     "name": "stdout",
     "output_type": "stream",
     "text": [
      "/Users/Granich/Documents/Programacion para ciencias de datos/Python\n"
     ]
    }
   ],
   "source": [
    "import pandas as pd\n",
    "path = os.getcwd()\n",
    "print(path)"
   ]
  },
  {
   "cell_type": "code",
   "execution_count": 91,
   "id": "5a4173d4-58c7-48c0-bacb-1e9121a8a89a",
   "metadata": {
    "tags": []
   },
   "outputs": [
    {
     "data": {
      "text/html": [
       "<div>\n",
       "<style scoped>\n",
       "    .dataframe tbody tr th:only-of-type {\n",
       "        vertical-align: middle;\n",
       "    }\n",
       "\n",
       "    .dataframe tbody tr th {\n",
       "        vertical-align: top;\n",
       "    }\n",
       "\n",
       "    .dataframe thead th {\n",
       "        text-align: right;\n",
       "    }\n",
       "</style>\n",
       "<table border=\"1\" class=\"dataframe\">\n",
       "  <thead>\n",
       "    <tr style=\"text-align: right;\">\n",
       "      <th></th>\n",
       "      <th>Chapter 4 Digit ID</th>\n",
       "      <th>Chapter 4 Digit</th>\n",
       "      <th>HS2 4 Digit ID</th>\n",
       "      <th>HS2 4 Digit</th>\n",
       "      <th>HS4 4 Digit ID</th>\n",
       "      <th>HS4 4 Digit</th>\n",
       "      <th>Trade Value</th>\n",
       "      <th>Growth Value</th>\n",
       "      <th>Growth Percentage</th>\n",
       "      <th>Share</th>\n",
       "    </tr>\n",
       "  </thead>\n",
       "  <tbody>\n",
       "    <tr>\n",
       "      <th>0</th>\n",
       "      <td>1</td>\n",
       "      <td>Los Productos de Origen Animal</td>\n",
       "      <td>101</td>\n",
       "      <td>Animales Vivos</td>\n",
       "      <td>10101</td>\n",
       "      <td>Caballos, Asnos, Mulos y Burdéganos, Vivos</td>\n",
       "      <td>85204</td>\n",
       "      <td>-9599.0</td>\n",
       "      <td>-0.101252</td>\n",
       "      <td>0.000645</td>\n",
       "    </tr>\n",
       "    <tr>\n",
       "      <th>1</th>\n",
       "      <td>1</td>\n",
       "      <td>Los Productos de Origen Animal</td>\n",
       "      <td>101</td>\n",
       "      <td>Animales Vivos</td>\n",
       "      <td>10102</td>\n",
       "      <td>Animales Vivos de la Especie Bovina</td>\n",
       "      <td>87167022</td>\n",
       "      <td>-20785765.0</td>\n",
       "      <td>-0.192545</td>\n",
       "      <td>0.659469</td>\n",
       "    </tr>\n",
       "    <tr>\n",
       "      <th>2</th>\n",
       "      <td>1</td>\n",
       "      <td>Los Productos de Origen Animal</td>\n",
       "      <td>102</td>\n",
       "      <td>Carne y Despojos Comestibles</td>\n",
       "      <td>10201</td>\n",
       "      <td>Carne de Animales de la Especie Bovina, Fresca...</td>\n",
       "      <td>13663611</td>\n",
       "      <td>6671920.0</td>\n",
       "      <td>0.954264</td>\n",
       "      <td>0.103373</td>\n",
       "    </tr>\n",
       "    <tr>\n",
       "      <th>3</th>\n",
       "      <td>1</td>\n",
       "      <td>Los Productos de Origen Animal</td>\n",
       "      <td>102</td>\n",
       "      <td>Carne y Despojos Comestibles</td>\n",
       "      <td>10203</td>\n",
       "      <td>Carne de Animales de la Especie Porcina, Fresc...</td>\n",
       "      <td>462945576</td>\n",
       "      <td>-46551179.0</td>\n",
       "      <td>-0.091367</td>\n",
       "      <td>3.502452</td>\n",
       "    </tr>\n",
       "    <tr>\n",
       "      <th>4</th>\n",
       "      <td>1</td>\n",
       "      <td>Los Productos de Origen Animal</td>\n",
       "      <td>102</td>\n",
       "      <td>Carne y Despojos Comestibles</td>\n",
       "      <td>10206</td>\n",
       "      <td>Despojos Comestibles de Animales de las Especi...</td>\n",
       "      <td>19872605</td>\n",
       "      <td>6796048.0</td>\n",
       "      <td>0.519712</td>\n",
       "      <td>0.150348</td>\n",
       "    </tr>\n",
       "    <tr>\n",
       "      <th>...</th>\n",
       "      <td>...</td>\n",
       "      <td>...</td>\n",
       "      <td>...</td>\n",
       "      <td>...</td>\n",
       "      <td>...</td>\n",
       "      <td>...</td>\n",
       "      <td>...</td>\n",
       "      <td>...</td>\n",
       "      <td>...</td>\n",
       "      <td>...</td>\n",
       "    </tr>\n",
       "    <tr>\n",
       "      <th>447</th>\n",
       "      <td>20</td>\n",
       "      <td>Diverso</td>\n",
       "      <td>2096</td>\n",
       "      <td>Manufacturas Diversas</td>\n",
       "      <td>209608</td>\n",
       "      <td>Bolígrafos y Marcadores Punta de Fieltro u otr...</td>\n",
       "      <td>846284</td>\n",
       "      <td>321988.0</td>\n",
       "      <td>0.614134</td>\n",
       "      <td>0.006403</td>\n",
       "    </tr>\n",
       "    <tr>\n",
       "      <th>448</th>\n",
       "      <td>20</td>\n",
       "      <td>Diverso</td>\n",
       "      <td>2096</td>\n",
       "      <td>Manufacturas Diversas</td>\n",
       "      <td>209609</td>\n",
       "      <td>Lápices, Minas, Pasteles, Carboncillos, Tizas ...</td>\n",
       "      <td>632893</td>\n",
       "      <td>111135.0</td>\n",
       "      <td>0.213001</td>\n",
       "      <td>0.004788</td>\n",
       "    </tr>\n",
       "    <tr>\n",
       "      <th>449</th>\n",
       "      <td>20</td>\n",
       "      <td>Diverso</td>\n",
       "      <td>2096</td>\n",
       "      <td>Manufacturas Diversas</td>\n",
       "      <td>209611</td>\n",
       "      <td>Fechadores, Sellos, Numeradores, Timbradores y...</td>\n",
       "      <td>1561</td>\n",
       "      <td>-277.0</td>\n",
       "      <td>-0.150707</td>\n",
       "      <td>0.000012</td>\n",
       "    </tr>\n",
       "    <tr>\n",
       "      <th>450</th>\n",
       "      <td>20</td>\n",
       "      <td>Diverso</td>\n",
       "      <td>2096</td>\n",
       "      <td>Manufacturas Diversas</td>\n",
       "      <td>209612</td>\n",
       "      <td>Cintas para Máquinas de Escribir y Cintas Simi...</td>\n",
       "      <td>650490</td>\n",
       "      <td>-145066.0</td>\n",
       "      <td>-0.182345</td>\n",
       "      <td>0.004921</td>\n",
       "    </tr>\n",
       "    <tr>\n",
       "      <th>451</th>\n",
       "      <td>20</td>\n",
       "      <td>Diverso</td>\n",
       "      <td>2096</td>\n",
       "      <td>Manufacturas Diversas</td>\n",
       "      <td>209613</td>\n",
       "      <td>Encendedores y Mecheros, Incluso Mecánicos o E...</td>\n",
       "      <td>13078</td>\n",
       "      <td>4542.0</td>\n",
       "      <td>0.532099</td>\n",
       "      <td>0.000099</td>\n",
       "    </tr>\n",
       "  </tbody>\n",
       "</table>\n",
       "<p>452 rows × 10 columns</p>\n",
       "</div>"
      ],
      "text/plain": [
       "     Chapter 4 Digit ID                 Chapter 4 Digit  HS2 4 Digit ID  \\\n",
       "0                     1  Los Productos de Origen Animal             101   \n",
       "1                     1  Los Productos de Origen Animal             101   \n",
       "2                     1  Los Productos de Origen Animal             102   \n",
       "3                     1  Los Productos de Origen Animal             102   \n",
       "4                     1  Los Productos de Origen Animal             102   \n",
       "..                  ...                             ...             ...   \n",
       "447                  20                         Diverso            2096   \n",
       "448                  20                         Diverso            2096   \n",
       "449                  20                         Diverso            2096   \n",
       "450                  20                         Diverso            2096   \n",
       "451                  20                         Diverso            2096   \n",
       "\n",
       "                      HS2 4 Digit  HS4 4 Digit ID  \\\n",
       "0                  Animales Vivos           10101   \n",
       "1                  Animales Vivos           10102   \n",
       "2    Carne y Despojos Comestibles           10201   \n",
       "3    Carne y Despojos Comestibles           10203   \n",
       "4    Carne y Despojos Comestibles           10206   \n",
       "..                            ...             ...   \n",
       "447         Manufacturas Diversas          209608   \n",
       "448         Manufacturas Diversas          209609   \n",
       "449         Manufacturas Diversas          209611   \n",
       "450         Manufacturas Diversas          209612   \n",
       "451         Manufacturas Diversas          209613   \n",
       "\n",
       "                                           HS4 4 Digit  Trade Value  \\\n",
       "0           Caballos, Asnos, Mulos y Burdéganos, Vivos        85204   \n",
       "1                  Animales Vivos de la Especie Bovina     87167022   \n",
       "2    Carne de Animales de la Especie Bovina, Fresca...     13663611   \n",
       "3    Carne de Animales de la Especie Porcina, Fresc...    462945576   \n",
       "4    Despojos Comestibles de Animales de las Especi...     19872605   \n",
       "..                                                 ...          ...   \n",
       "447  Bolígrafos y Marcadores Punta de Fieltro u otr...       846284   \n",
       "448  Lápices, Minas, Pasteles, Carboncillos, Tizas ...       632893   \n",
       "449  Fechadores, Sellos, Numeradores, Timbradores y...         1561   \n",
       "450  Cintas para Máquinas de Escribir y Cintas Simi...       650490   \n",
       "451  Encendedores y Mecheros, Incluso Mecánicos o E...        13078   \n",
       "\n",
       "     Growth Value  Growth Percentage     Share  \n",
       "0         -9599.0          -0.101252  0.000645  \n",
       "1     -20785765.0          -0.192545  0.659469  \n",
       "2       6671920.0           0.954264  0.103373  \n",
       "3     -46551179.0          -0.091367  3.502452  \n",
       "4       6796048.0           0.519712  0.150348  \n",
       "..            ...                ...       ...  \n",
       "447      321988.0           0.614134  0.006403  \n",
       "448      111135.0           0.213001  0.004788  \n",
       "449        -277.0          -0.150707  0.000012  \n",
       "450     -145066.0          -0.182345  0.004921  \n",
       "451        4542.0           0.532099  0.000099  \n",
       "\n",
       "[452 rows x 10 columns]"
      ]
     },
     "execution_count": 91,
     "metadata": {},
     "output_type": "execute_result"
    }
   ],
   "source": [
    "df_1 = pd.read_csv('/Users/Granich/Documents/Programacion para ciencias de datos/Python/Productos2021.csv')\n",
    "df_1"
   ]
  },
  {
   "cell_type": "code",
   "execution_count": 75,
   "id": "0f9f5c5d-ebfa-4399-8c59-3ae803398857",
   "metadata": {},
   "outputs": [
    {
     "data": {
      "text/plain": [
       "Chapter 4 Digit ID      int64\n",
       "Chapter 4 Digit        object\n",
       "HS2 4 Digit ID          int64\n",
       "HS2 4 Digit            object\n",
       "HS4 4 Digit ID          int64\n",
       "HS4 4 Digit            object\n",
       "Trade Value             int64\n",
       "Growth Value          float64\n",
       "Growth Percentage     float64\n",
       "Share                 float64\n",
       "dtype: object"
      ]
     },
     "execution_count": 75,
     "metadata": {},
     "output_type": "execute_result"
    }
   ],
   "source": [
    "df_1.dtypes"
   ]
  },
  {
   "cell_type": "code",
   "execution_count": 89,
   "id": "5056ca35-bd1d-463c-aaba-fb26fd45710f",
   "metadata": {
    "tags": []
   },
   "outputs": [
    {
     "data": {
      "text/html": [
       "<div>\n",
       "<style scoped>\n",
       "    .dataframe tbody tr th:only-of-type {\n",
       "        vertical-align: middle;\n",
       "    }\n",
       "\n",
       "    .dataframe tbody tr th {\n",
       "        vertical-align: top;\n",
       "    }\n",
       "\n",
       "    .dataframe thead th {\n",
       "        text-align: right;\n",
       "    }\n",
       "</style>\n",
       "<table border=\"1\" class=\"dataframe\">\n",
       "  <thead>\n",
       "    <tr style=\"text-align: right;\">\n",
       "      <th></th>\n",
       "      <th>Continent ID</th>\n",
       "      <th>Continent</th>\n",
       "      <th>Country ID</th>\n",
       "      <th>Country</th>\n",
       "      <th>Trade Value</th>\n",
       "      <th>Growth Value</th>\n",
       "      <th>Growth Percentage</th>\n",
       "      <th>Share</th>\n",
       "    </tr>\n",
       "  </thead>\n",
       "  <tbody>\n",
       "    <tr>\n",
       "      <th>0</th>\n",
       "      <td>af</td>\n",
       "      <td>África</td>\n",
       "      <td>ago</td>\n",
       "      <td>Angola</td>\n",
       "      <td>19411</td>\n",
       "      <td>NaN</td>\n",
       "      <td>NaN</td>\n",
       "      <td>0.000146</td>\n",
       "    </tr>\n",
       "    <tr>\n",
       "      <th>1</th>\n",
       "      <td>af</td>\n",
       "      <td>África</td>\n",
       "      <td>bfa</td>\n",
       "      <td>Burkina Faso</td>\n",
       "      <td>24808</td>\n",
       "      <td>-17582.0</td>\n",
       "      <td>-0.414768</td>\n",
       "      <td>0.000187</td>\n",
       "    </tr>\n",
       "    <tr>\n",
       "      <th>2</th>\n",
       "      <td>af</td>\n",
       "      <td>África</td>\n",
       "      <td>civ</td>\n",
       "      <td>Côte d'Ivoire</td>\n",
       "      <td>45750</td>\n",
       "      <td>-142119.0</td>\n",
       "      <td>-0.756479</td>\n",
       "      <td>0.000345</td>\n",
       "    </tr>\n",
       "    <tr>\n",
       "      <th>3</th>\n",
       "      <td>af</td>\n",
       "      <td>África</td>\n",
       "      <td>cmr</td>\n",
       "      <td>Camerún</td>\n",
       "      <td>352716</td>\n",
       "      <td>219572.0</td>\n",
       "      <td>1.649132</td>\n",
       "      <td>0.002659</td>\n",
       "    </tr>\n",
       "    <tr>\n",
       "      <th>4</th>\n",
       "      <td>af</td>\n",
       "      <td>África</td>\n",
       "      <td>dza</td>\n",
       "      <td>Argelia</td>\n",
       "      <td>9034770</td>\n",
       "      <td>4666054.0</td>\n",
       "      <td>1.068061</td>\n",
       "      <td>0.068109</td>\n",
       "    </tr>\n",
       "    <tr>\n",
       "      <th>...</th>\n",
       "      <td>...</td>\n",
       "      <td>...</td>\n",
       "      <td>...</td>\n",
       "      <td>...</td>\n",
       "      <td>...</td>\n",
       "      <td>...</td>\n",
       "      <td>...</td>\n",
       "      <td>...</td>\n",
       "    </tr>\n",
       "    <tr>\n",
       "      <th>88</th>\n",
       "      <td>sa</td>\n",
       "      <td>América del Sur</td>\n",
       "      <td>guy</td>\n",
       "      <td>Guayana</td>\n",
       "      <td>618637</td>\n",
       "      <td>194760.0</td>\n",
       "      <td>0.459473</td>\n",
       "      <td>0.004664</td>\n",
       "    </tr>\n",
       "    <tr>\n",
       "      <th>89</th>\n",
       "      <td>sa</td>\n",
       "      <td>América del Sur</td>\n",
       "      <td>per</td>\n",
       "      <td>Perú</td>\n",
       "      <td>1917305</td>\n",
       "      <td>-852051.0</td>\n",
       "      <td>-0.305808</td>\n",
       "      <td>0.014454</td>\n",
       "    </tr>\n",
       "    <tr>\n",
       "      <th>90</th>\n",
       "      <td>sa</td>\n",
       "      <td>América del Sur</td>\n",
       "      <td>sur</td>\n",
       "      <td>Suriname</td>\n",
       "      <td>106724</td>\n",
       "      <td>-296744.0</td>\n",
       "      <td>-0.735483</td>\n",
       "      <td>0.000805</td>\n",
       "    </tr>\n",
       "    <tr>\n",
       "      <th>91</th>\n",
       "      <td>sa</td>\n",
       "      <td>América del Sur</td>\n",
       "      <td>ury</td>\n",
       "      <td>Uruguay</td>\n",
       "      <td>184799</td>\n",
       "      <td>-41979.0</td>\n",
       "      <td>-0.185111</td>\n",
       "      <td>0.001393</td>\n",
       "    </tr>\n",
       "    <tr>\n",
       "      <th>92</th>\n",
       "      <td>sa</td>\n",
       "      <td>América del Sur</td>\n",
       "      <td>ven</td>\n",
       "      <td>Venezuela</td>\n",
       "      <td>274262</td>\n",
       "      <td>-6313998.0</td>\n",
       "      <td>-0.958371</td>\n",
       "      <td>0.002068</td>\n",
       "    </tr>\n",
       "  </tbody>\n",
       "</table>\n",
       "<p>93 rows × 8 columns</p>\n",
       "</div>"
      ],
      "text/plain": [
       "   Continent ID        Continent Country ID        Country  Trade Value  \\\n",
       "0            af           África        ago         Angola        19411   \n",
       "1            af           África        bfa   Burkina Faso        24808   \n",
       "2            af           África        civ  Côte d'Ivoire        45750   \n",
       "3            af           África        cmr        Camerún       352716   \n",
       "4            af           África        dza        Argelia      9034770   \n",
       "..          ...              ...        ...            ...          ...   \n",
       "88           sa  América del Sur        guy        Guayana       618637   \n",
       "89           sa  América del Sur        per           Perú      1917305   \n",
       "90           sa  América del Sur        sur       Suriname       106724   \n",
       "91           sa  América del Sur        ury        Uruguay       184799   \n",
       "92           sa  América del Sur        ven      Venezuela       274262   \n",
       "\n",
       "    Growth Value  Growth Percentage     Share  \n",
       "0            NaN                NaN  0.000146  \n",
       "1       -17582.0          -0.414768  0.000187  \n",
       "2      -142119.0          -0.756479  0.000345  \n",
       "3       219572.0           1.649132  0.002659  \n",
       "4      4666054.0           1.068061  0.068109  \n",
       "..           ...                ...       ...  \n",
       "88      194760.0           0.459473  0.004664  \n",
       "89     -852051.0          -0.305808  0.014454  \n",
       "90     -296744.0          -0.735483  0.000805  \n",
       "91      -41979.0          -0.185111  0.001393  \n",
       "92    -6313998.0          -0.958371  0.002068  \n",
       "\n",
       "[93 rows x 8 columns]"
      ]
     },
     "execution_count": 89,
     "metadata": {},
     "output_type": "execute_result"
    }
   ],
   "source": [
    "df_2 = pd.read_excel('/Users/Granich/Documents/Programacion para ciencias de datos/Python/Destinoscomerciales2021.xlsx')\n",
    "df_2"
   ]
  },
  {
   "cell_type": "code",
   "execution_count": 90,
   "id": "3450ba65-c076-48e1-a9ce-adac168daa8e",
   "metadata": {},
   "outputs": [
    {
     "data": {
      "text/plain": [
       "Continent ID          object\n",
       "Continent             object\n",
       "Country ID            object\n",
       "Country               object\n",
       "Trade Value            int64\n",
       "Growth Value         float64\n",
       "Growth Percentage    float64\n",
       "Share                float64\n",
       "dtype: object"
      ]
     },
     "execution_count": 90,
     "metadata": {},
     "output_type": "execute_result"
    }
   ],
   "source": [
    "df_2.dtypes"
   ]
  }
 ],
 "metadata": {
  "kernelspec": {
   "display_name": "Python 3 (ipykernel)",
   "language": "python",
   "name": "python3"
  },
  "language_info": {
   "codemirror_mode": {
    "name": "ipython",
    "version": 3
   },
   "file_extension": ".py",
   "mimetype": "text/x-python",
   "name": "python",
   "nbconvert_exporter": "python",
   "pygments_lexer": "ipython3",
   "version": "3.10.7"
  }
 },
 "nbformat": 4,
 "nbformat_minor": 5
}
